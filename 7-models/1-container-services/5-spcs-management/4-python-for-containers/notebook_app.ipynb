{
 "cells": [
  {
   "cell_type": "code",
   "execution_count": null,
   "id": "a54ee50c-6f48-4006-bcc6-93a4ea882c2d",
   "metadata": {
    "collapsed": false,
    "language": "sql",
    "name": "cell15",
    "resultHeight": 111
   },
   "outputs": [],
   "source": [
    "# to import and execute as a Snowflake Notebook!\n",
    "\n",
    "USE ROLE accountadmin;"
   ]
  },
  {
   "cell_type": "code",
   "execution_count": null,
   "id": "3775908f-ca36-4846-8f38-5adca39217f2",
   "metadata": {
    "collapsed": false,
    "language": "python",
    "name": "cell1",
    "resultHeight": 0
   },
   "outputs": [],
   "source": [
    "# must add \"snowflake.core\" to Packages!\n",
    "\n",
    "from snowflake.core import Root\n",
    "from snowflake.snowpark.context import get_active_session\n",
    "\n",
    "session = get_active_session()\n",
    "root = Root(session)\n",
    "schema = root.databases[\"test\"].schemas[\"public\"]"
   ]
  },
  {
   "cell_type": "markdown",
   "id": "a423f756-fd66-436a-91fb-3b8ef18344c2",
   "metadata": {
    "collapsed": false,
    "name": "cell7",
    "resultHeight": 46
   },
   "source": [
    "### Image Repositories"
   ]
  },
  {
   "cell_type": "code",
   "execution_count": null,
   "id": "62125710-8933-42b6-bd53-4e9a41dea57c",
   "metadata": {
    "collapsed": false,
    "language": "python",
    "name": "cell4",
    "resultHeight": 83
   },
   "outputs": [],
   "source": [
    "from snowflake.core.image_repository import ImageRepository\n",
    "\n",
    "repos = schema.image_repositories\n",
    "repo = repos.create(ImageRepository(\"tmp_repo\"))\n",
    "\n",
    "repo = repos[\"tmp_repo\"]\n",
    "print(repo.fetch().owner)\n",
    "repo.drop()\n",
    "\n",
    "for repo in repos.iter():\n",
    "  print(repo.name)"
   ]
  },
  {
   "cell_type": "markdown",
   "id": "a80cb416-e25f-4764-9612-d22d46fec886",
   "metadata": {
    "collapsed": false,
    "name": "cell6",
    "resultHeight": 46
   },
   "source": [
    "### Compute Pools"
   ]
  },
  {
   "cell_type": "code",
   "execution_count": null,
   "id": "65fb04a1-0c1a-4d43-bc99-f8126690d706",
   "metadata": {
    "collapsed": false,
    "language": "sql",
    "name": "cell8",
    "resultHeight": 216
   },
   "outputs": [],
   "source": [
    "ALTER COMPUTE POOL cpu1 SUSPEND;\n",
    "SHOW COMPUTE POOLS;"
   ]
  },
  {
   "cell_type": "code",
   "execution_count": null,
   "id": "bb198576-7bb7-49f0-b7bc-60ed61ef2cf2",
   "metadata": {
    "collapsed": false,
    "language": "python",
    "name": "cell2",
    "resultHeight": 133
   },
   "outputs": [],
   "source": [
    "pool = root.compute_pools[\"cpu1\"]\n",
    "print(pool.fetch().to_dict())\n",
    "pool.suspend()\n",
    "\n",
    "pools = root.compute_pools.iter()\n",
    "for pool in pools:\n",
    "    print(pool.name, pool.state, pool.min_nodes, pool.max_nodes, pool.instance_family)"
   ]
  },
  {
   "cell_type": "code",
   "execution_count": null,
   "id": "1aa0734d-aef7-44e5-9a89-7eb6ce167987",
   "metadata": {
    "collapsed": false,
    "language": "python",
    "name": "cell3",
    "resultHeight": 38
   },
   "outputs": [],
   "source": [
    "\n",
    "from snowflake.core.compute_pool import ComputePool\n",
    "\n",
    "name = \"tmp_pool\"\n",
    "pool_def = ComputePool(name=name,\n",
    "    instance_family=\"CPU_X64_XS\",\n",
    "    min_nodes=1, max_nodes=1)\n",
    "pool = root.compute_pools.create(pool_def)\n",
    "snapshot = pool.fetch()\n",
    "data = root.compute_pools.iter(like=\"tmp%\")\n",
    "\n",
    "pool = root.compute_pools[name].fetch()\n",
    "pool.max_nodes = 3\n",
    "pool_res = root.compute_pools[name].create_or_alter(pool)\n",
    "\n",
    "pool = root.compute_pools[name].fetch()\n",
    "print(pool.max_nodes)\n",
    "\n",
    "pool = root.compute_pools[name]\n",
    "pool.stop_all_services()\n",
    "pool.suspend()\n",
    "pool.delete()"
   ]
  },
  {
   "cell_type": "markdown",
   "id": "942858d1-312a-477c-9380-e80ee794cb45",
   "metadata": {
    "collapsed": false,
    "name": "cell9",
    "resultHeight": 46
   },
   "source": [
    "### Services"
   ]
  },
  {
   "cell_type": "code",
   "execution_count": null,
   "id": "eb766945-bca6-4515-9cf9-662b42ecafaf",
   "metadata": {
    "collapsed": false,
    "language": "python",
    "name": "cell10",
    "resultHeight": 303
   },
   "outputs": [],
   "source": [
    "# must upload \"service1_spec.yml\" local file to existing @stage1\n",
    "\n",
    "session.file.put(\"service1_spec.yml\", \"@stage1\", auto_compress=False)\n",
    "\n",
    "# could also create a staged file from inline string\n",
    "repo_url = schema.image_repositories[\"repo\"].fetch().repository_url\n",
    "spec = f\"\"\"\n",
    "    spec:\n",
    "      containers:\n",
    "      - name: job1c\n",
    "        image: {repo_url}/job1\n",
    "    \"\"\"\n",
    "from io import BytesIO\n",
    "session.file.put_stream(\n",
    "    BytesIO(bytes(spec, encoding='utf-8')),\n",
    "    \"@stage1/service1_spec_str.yml\",\n",
    "    auto_compress=False)"
   ]
  },
  {
   "cell_type": "code",
   "execution_count": null,
   "id": "bf5c5e18-5285-49f9-a1c9-92f1bf977044",
   "metadata": {
    "collapsed": false,
    "language": "sql",
    "name": "cell5",
    "resultHeight": 146
   },
   "outputs": [],
   "source": [
    "USE ROLE sysadmin;\n",
    "\n",
    "-- RM @stage1 pattern='.*.';\n",
    "LIST @stage1;"
   ]
  },
  {
   "cell_type": "code",
   "execution_count": null,
   "id": "8a5be4bf-8a83-4130-bfdd-9444a8c84261",
   "metadata": {
    "collapsed": false,
    "language": "python",
    "name": "cell11",
    "resultHeight": 43
   },
   "outputs": [],
   "source": [
    "from snowflake.core.service import Service, ServiceSpec\n",
    "\n",
    "# from spec in staged file\n",
    "service_def = Service(name=\"tmp_service\",\n",
    "    min_instances=1, max_instances=2,\n",
    "    compute_pool=\"cpu1\",\n",
    "    spec=ServiceSpec(\"@stage1/service1_spec.yml\"))\n",
    "service = schema.services.create(service_def)\n",
    "\n",
    "service = schema.services[\"tmp_service\"]\n",
    "service.suspend()\n",
    "service.resume()\n",
    "status = service.get_service_status(10)\n",
    "print(status)\n",
    "\n",
    "service.delete();"
   ]
  },
  {
   "cell_type": "code",
   "execution_count": null,
   "id": "feace7d0-fe05-49af-88a7-6a10c3170d58",
   "metadata": {
    "collapsed": false,
    "language": "python",
    "name": "cell13",
    "resultHeight": 83
   },
   "outputs": [],
   "source": [
    "# from inline spec as string\n",
    "service_def = Service(name=\"tmp_service\",\n",
    "    min_instances=1, max_instances=2,\n",
    "    compute_pool=\"cpu1\",\n",
    "    spec=ServiceSpec(spec))\n",
    "service = schema.services.create(service_def)\n",
    "\n",
    "for service in schema.services.iter(like=\"%\"):\n",
    "    print(service.name)\n",
    "\n",
    "service = schema.services[\"tmp_service\"]\n",
    "service.delete();"
   ]
  },
  {
   "cell_type": "code",
   "execution_count": null,
   "id": "f0ac5a21-c903-4353-bcef-48cd23b799b5",
   "metadata": {
    "collapsed": false,
    "language": "sql",
    "name": "cell12",
    "resultHeight": 146
   },
   "outputs": [],
   "source": [
    "SHOW SERVICES IN SCHEMA test.public;"
   ]
  },
  {
   "cell_type": "code",
   "execution_count": null,
   "id": "e0eacc6e-bb19-483d-902e-24d2647c7c6a",
   "metadata": {
    "language": "sql",
    "name": "cell14",
    "resultHeight": 216
   },
   "outputs": [],
   "source": [
    "ALTER COMPUTE POOL cpu1 SUSPEND;\n",
    "SHOW COMPUTE POOLS;"
   ]
  }
 ],
 "metadata": {
  "kernelspec": {
   "display_name": "Streamlit Notebook",
   "name": "streamlit"
  }
 },
 "nbformat": 4,
 "nbformat_minor": 5
}
