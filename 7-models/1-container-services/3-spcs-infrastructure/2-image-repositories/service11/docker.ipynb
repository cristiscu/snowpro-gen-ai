{
 "cells": [
  {
   "cell_type": "markdown",
   "metadata": {},
   "source": [
    "### Connect to Snowflake with Snowflake Connector"
   ]
  },
  {
   "cell_type": "code",
   "execution_count": null,
   "metadata": {},
   "outputs": [],
   "source": [
    "# see https://github.com/Snowflake-Labs/sfguide-intro-to-snowpark-container-services/blob/main/06_docker_jupyter_service.py\n",
    "# see https://github.com/Snowflake-Labs/sfguide-intro-to-snowpark-container-services/blob/main/07_docker_rest_service.py\n",
    "import os, re, docker\n",
    "from snowflake.connector import connect\n",
    "from snowflake.core import Root\n",
    "\n",
    "params = {\n",
    "    \"account\": os.environ[\"SNOWFLAKE_ACCOUNT\"],\n",
    "    \"user\": os.environ[\"SNOWFLAKE_USER\"],\n",
    "    \"password\": os.environ[\"SNOWFLAKE_PASSWORD\"]}\n",
    "conn = connect(**params)\n",
    "root = Root(conn)\n"
   ]
  },
  {
   "cell_type": "markdown",
   "metadata": {},
   "source": [
    "### Get Snowflake repo and registry URLs"
   ]
  },
  {
   "cell_type": "code",
   "execution_count": null,
   "metadata": {},
   "outputs": [],
   "source": [
    "schema = root.databases[\"test\"].schemas[\"public\"]\n",
    "repo = schema.image_repositories[\"repo\"]\n",
    "repo_url = repo.fetch().repository_url\n",
    "registry = re.match(r\"^[^/]+\", repo_url).group(0)\n",
    "registry, repo_url"
   ]
  },
  {
   "cell_type": "markdown",
   "metadata": {},
   "source": [
    "### Connect Docker to the Snowflake registry"
   ]
  },
  {
   "cell_type": "code",
   "execution_count": null,
   "metadata": {},
   "outputs": [],
   "source": [
    "image_name = \"service11\"\n",
    "client = docker.from_env()\n",
    "\n",
    "# docker login org-acct.registry.snowflakecomputing.com -u your-username\n",
    "client.login(\n",
    "    username=params[\"user\"],\n",
    "    password=params[\"password\"],\n",
    "    registry=registry,\n",
    "    reauth=True)"
   ]
  },
  {
   "cell_type": "markdown",
   "metadata": {},
   "source": [
    "### Build the local Docker image"
   ]
  },
  {
   "cell_type": "code",
   "execution_count": null,
   "metadata": {},
   "outputs": [],
   "source": [
    "# docker build --rm --platform linux/amd64 -t service11 .\n",
    "client.images.build(path=\".\", platform=\"linux/amd64\", tag=image_name)\n",
    "\n",
    "# docker images\n",
    "client.images.list()"
   ]
  },
  {
   "cell_type": "markdown",
   "metadata": {},
   "source": [
    "### Test the service"
   ]
  },
  {
   "cell_type": "code",
   "execution_count": null,
   "metadata": {},
   "outputs": [],
   "source": [
    "# docker run -d -p 8000:8000 service11\n",
    "container = client.containers.run(image=image_name, detach=True, ports={8000: 8000})\n",
    "\n",
    "os.system(\"curl -X GET http://localhost:8000\")"
   ]
  },
  {
   "cell_type": "markdown",
   "metadata": {},
   "source": [
    "### Tag image and push it into the Snowflake repo"
   ]
  },
  {
   "cell_type": "code",
   "execution_count": null,
   "metadata": {},
   "outputs": [],
   "source": [
    "image = client.images.list()[0]\n",
    "remote_image_name = f\"{repo_url}/{image_name}\"\n",
    "\n",
    "# docker tag service11 org-acct.registry.snowflakecomputing.com/test/public/repo/service11\n",
    "image.tag(remote_image_name, image_name)\n",
    "\n",
    "# docker push org-acct.registry.snowflakecomputing.com/test/public/repo/service11\n",
    "client.api.push(remote_image_name)"
   ]
  },
  {
   "cell_type": "markdown",
   "metadata": {},
   "source": [
    "### Clean-up and show all loaded images in Snowflake repo"
   ]
  },
  {
   "cell_type": "code",
   "execution_count": null,
   "metadata": {},
   "outputs": [],
   "source": [
    "# docker stop service11\n",
    "container.stop()\n",
    "\n",
    "images = repo.list_images_in_repository()\n",
    "for image in images:\n",
    "    print(image.image_name)"
   ]
  }
 ],
 "metadata": {
  "kernelspec": {
   "display_name": "venv",
   "language": "python",
   "name": "python3"
  },
  "language_info": {
   "codemirror_mode": {
    "name": "ipython",
    "version": 3
   },
   "file_extension": ".py",
   "mimetype": "text/x-python",
   "name": "python",
   "nbconvert_exporter": "python",
   "pygments_lexer": "ipython3",
   "version": "3.11.4"
  }
 },
 "nbformat": 4,
 "nbformat_minor": 2
}
