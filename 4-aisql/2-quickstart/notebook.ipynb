{
 "cells": [
  {
   "cell_type": "markdown",
   "id": "beafe711-0ff7-4aa6-bd2d-d58ffc95bb92",
   "metadata": {
    "collapsed": false,
    "name": "OVERVIEW_MD",
    "resultHeight": 339
   },
   "source": [
    "# Gaining insights from Unstructured Data with Snowflake Cortex AI\n",
    "\n",
    "Tasty Bytes is a global food truck network operating in 15 countries with fleet of 450 trucks. They collect customer reviews to get customer feedback on their food-trucks which come in from multiple sources and span multiple languages. \n",
    "This enables them to better understand the areas which require improvement and drive up customer loyalty along with satisfaction. \n",
    "\n",
    "In this notebook, we will look at how we analyze these collated customer reviews using Snowflake Cortex to understand :\n",
    "  * What our international customers are saying with Cortex **Translate**\n",
    "  * Get a summary of what customers are saying with Cortex **AI_SUMMARIZE_AGG**\n",
    "  * Classify reviews to determine if they would recommend a food truck with Cortex **AI_CLASSIFY**\n",
    "  * Gain specific insights with Cortex **AI_COMPLETE**\n",
    "  * Understand how customers are feeling with Cortex **AI_SENTIMENT**\n",
    "  * Insights on Images with Cortex **AI_COMPLETE**\n",
    "  * Transcribe Audio with Cortex **AI_TRANSCRIBE**"
   ]
  },
  {
   "cell_type": "markdown",
   "id": "ec42fdf2-de02-4e89-ae78-d4316f2dd09c",
   "metadata": {
    "collapsed": false,
    "name": "COUNT_REVIEWS_MD",
    "resultHeight": 41
   },
   "source": [
    "Lets see how many reviews we have."
   ]
  },
  {
   "cell_type": "code",
   "execution_count": null,
   "id": "12220c10-ff2d-4d95-af0e-fc8135efaf99",
   "metadata": {
    "codeCollapsed": false,
    "collapsed": false,
    "language": "sql",
    "name": "COUNT_REVIEWS",
    "resultHeight": 0
   },
   "outputs": [],
   "source": [
    "SELECT COUNT(*) FROM TRUCK_REVIEWS_V;"
   ]
  },
  {
   "cell_type": "markdown",
   "id": "4db3f281-4a3d-48a5-b07e-3e967ea5a824",
   "metadata": {
    "collapsed": false,
    "name": "IMPORT_PACKAGES_MD",
    "resultHeight": 211
   },
   "source": [
    "**Import python packages**\n",
    "\n",
    "Snowflake Notebooks include Streamlit and the third-party packages listed in the Snowflake Anaconda channel.  \n",
    "Installing a package is made easy by enabling user to select required pacakges from a list of available pacakges under Packages on the top right corner.  \n",
    "Once installed, we can import installed packages as we would in any other notebook."
   ]
  },
  {
   "cell_type": "code",
   "execution_count": null,
   "id": "3775908f-ca36-4846-8f38-5adca39217f2",
   "metadata": {
    "codeCollapsed": false,
    "collapsed": false,
    "language": "python",
    "name": "IMPORT_PACKAGES",
    "resultHeight": 0
   },
   "outputs": [],
   "source": [
    "# Import python packages\n",
    "import streamlit as st\n",
    "import pandas as pd\n",
    "import json\n",
    "\n",
    "# Snowpark\n",
    "from snowflake.snowpark.context import get_active_session\n",
    "import snowflake.snowpark.functions as F\n",
    "from snowflake.snowpark.functions import when, date_part, ai_classify, prompt, ai_agg, ai_summarize_agg, ai_complete\n",
    "\n",
    "# Cortex Functions\n",
    "import snowflake.cortex  as cortex\n",
    "\n",
    "session = get_active_session()\n",
    "# Add a query tag to the session.\n",
    "session.query_tag = {\"origin\":\"sf_sit-is\", \n",
    "                     \"name\":\"voc\", \n",
    "                     \"version\":{\"major\":1, \"minor\":0},\n",
    "                     \"attributes\":{\"is_quickstart\":1, \"source\":\"notebook\", \"vignette\":\"customer_reviews\"}}\n"
   ]
  },
  {
   "cell_type": "code",
   "execution_count": null,
   "id": "f8e2afed-e89b-4db4-89e8-24361455924a",
   "metadata": {
    "language": "sql",
    "name": "Setup"
   },
   "outputs": [],
   "source": [
    "-- Create an image table that references the files in our stage\n",
    "CREATE OR REPLACE TABLE TB_VOC.MEDIA.IMAGE_TABLE AS\n",
    "  SELECT \n",
    "    RELATIVE_PATH AS image_path,\n",
    "    TO_FILE('@TB_VOC.MEDIA.IMAGES', RELATIVE_PATH) AS img_file\n",
    "  FROM DIRECTORY('@TB_VOC.MEDIA.IMAGES');\n",
    "\n",
    "-- Create an audio table that references the files in our stage\n",
    "CREATE OR REPLACE TABLE tb_voc.MEDIA.AUDIO_TABLE AS\n",
    "  SELECT \n",
    "    RELATIVE_PATH AS audio_path,\n",
    "    TO_FILE('@TB_VOC.MEDIA.AUDIO', RELATIVE_PATH) AS audio_file\n",
    "  FROM DIRECTORY('@TB_VOC.MEDIA.AUDIO');"
   ]
  },
  {
   "cell_type": "markdown",
   "id": "ba1549f9-f4d0-447d-b447-4927a17e5d56",
   "metadata": {
    "collapsed": false,
    "name": "PREVIEW_REVIEWS_MD",
    "resultHeight": 41
   },
   "source": [
    "Lets preview the reviews"
   ]
  },
  {
   "cell_type": "code",
   "execution_count": null,
   "id": "4a2f5851-3b19-41b1-81a3-73f82b9c0966",
   "metadata": {
    "codeCollapsed": false,
    "collapsed": false,
    "language": "python",
    "name": "PREVIEW_REVIEWS",
    "resultHeight": 0
   },
   "outputs": [],
   "source": [
    "reviews_df = session.table('TRUCK_REVIEWS_V') \\\n",
    "             .filter(date_part(\"year\", F.col('DATE')) == 2024)\n",
    "reviews_df.show()"
   ]
  },
  {
   "cell_type": "markdown",
   "id": "214db186-a7d5-49ba-a428-6c335199741c",
   "metadata": {
    "collapsed": false,
    "name": "CORTEX_INTRO_MD",
    "resultHeight": 118
   },
   "source": [
    "In the next cell, we leverage **Translate** - one of the **Snowflake Cortex specialised LLM functions** are available in Snowpark ML, to translate the multilingual reviews to english to enable easier analysis for folks who don't speak the language the original review is in."
   ]
  },
  {
   "cell_type": "code",
   "execution_count": null,
   "id": "43b8f914-e41b-433a-8544-5c20eb742dc5",
   "metadata": {
    "codeCollapsed": false,
    "collapsed": false,
    "language": "python",
    "name": "TRANSLATE",
    "resultHeight": 0
   },
   "outputs": [],
   "source": [
    "# Conditionally translate reviews that are not english using Cortex Translate\n",
    "reviews_df = reviews_df.withColumn('TRANSLATED_REVIEW',when(F.col('LANGUAGE') != F.lit(\"en\"), \\\n",
    "                                                            cortex.translate(F.col('REVIEW'), \\\n",
    "                                                                             F.col('LANGUAGE'), \\\n",
    "                                                                             \"en\")) \\\n",
    "                                   .otherwise(F.col('REVIEW')))\n",
    "\n",
    "reviews_df.filter(F.col('LANGUAGE') != F.lit(\"en\")) \\\n",
    ".select([\"REVIEW\",\"LANGUAGE\",\"TRANSLATED_REVIEW\"]).show(3)"
   ]
  },
  {
   "cell_type": "markdown",
   "id": "651ed2ac-d1a5-48ae-836b-cb7024c759e1",
   "metadata": {
    "collapsed": false,
    "name": "SUMMARIZE_MD",
    "resultHeight": 41
   },
   "source": [
    "We can quickly learn what our customers are saying with Cortex **Summarize**"
   ]
  },
  {
   "cell_type": "code",
   "execution_count": null,
   "id": "ff217432-5256-473d-a317-33fa53b01a91",
   "metadata": {
    "codeCollapsed": false,
    "collapsed": false,
    "language": "python",
    "name": "AI_SUMMARIZE_AGG",
    "resultHeight": 0
   },
   "outputs": [],
   "source": [
    "summarized_reviews_df = session.table(\"TRUCK_REVIEWS_V\") \\\n",
    "    .sample(0.01) \\\n",
    "    .group_by(\"TRUCK_BRAND_NAME\") \\\n",
    "    .agg(ai_summarize_agg(F.col(\"REVIEW\")).alias(\"SUMMARY\"))\n",
    "\n",
    "summarized_reviews_df.select([\"TRUCK_BRAND_NAME\", \"SUMMARY\"]).show(3)"
   ]
  },
  {
   "cell_type": "markdown",
   "id": "6bac2888-1344-4ea9-85aa-49e38afad859",
   "metadata": {
    "collapsed": false,
    "name": "CLASSIFY_TEXT_MD",
    "resultHeight": 67
   },
   "source": [
    "We can similarly understand if a customer would recommend the food truck based on their review using Snowflake Cortex **AI_CLASSIFY**"
   ]
  },
  {
   "cell_type": "code",
   "execution_count": null,
   "id": "fa98f3d4-200d-4158-bc6f-b62132238ad8",
   "metadata": {
    "codeCollapsed": false,
    "collapsed": false,
    "language": "python",
    "name": "AI_CLASSIFY",
    "resultHeight": 0
   },
   "outputs": [],
   "source": [
    "reviews_df = reviews_df.withColumn('RECOMMEND', ai_classify(prompt(\"Tell me based on the following food truck customer review {0}, will they recommend the food truck to their friends and family?\", F.col('REVIEW')),[\"Likely\",\"Unlikely\",\"Unsure\"])[\"labels\"][0])\n",
    "\n",
    "reviews_df.select([\"REVIEW\",\"RECOMMEND\"]).show(3)"
   ]
  },
  {
   "cell_type": "markdown",
   "id": "7fa7fefd-0e0a-48c3-967c-ee542a08541e",
   "metadata": {
    "collapsed": false,
    "name": "COMPLETE_MD",
    "resultHeight": 41
   },
   "source": [
    "Gaining specific insights through Cortex Complete"
   ]
  },
  {
   "cell_type": "code",
   "execution_count": null,
   "id": "184bf8fa-3cc1-4494-b949-720049b92b90",
   "metadata": {
    "codeCollapsed": false,
    "collapsed": false,
    "language": "python",
    "name": "AI_COMPLETE",
    "resultHeight": 0
   },
   "outputs": [],
   "source": [
    "question = \"What is the number one dish positively mentioned in the feedback?\"\n",
    "\n",
    "summarized_reviews_df = session.table(\"CONCATENATED_REVIEWS\").select(\n",
    "    F.col(\"TRUCK_BRAND_NAME\"),\n",
    "    ai_complete(\n",
    "        \"openai-gpt-4.1\",\n",
    "        F.concat(\n",
    "            F.lit(\"Context: \"),\n",
    "            F.col(\"ALL_REVIEWS_TEXT\"),\n",
    "            F.lit(f\" Question: {question} Answer briefly and concisely and only name the dish:\")\n",
    "        )\n",
    "    ).alias(\"NUMBER_ONE_DISH\")\n",
    ")\n",
    "\n",
    "summarized_reviews_df.show(3)"
   ]
  },
  {
   "cell_type": "code",
   "execution_count": null,
   "id": "a63fca93-bcc0-4bec-a6fe-e39e1aa2a6df",
   "metadata": {
    "language": "python",
    "name": "AI_COMPLETE_IMAGE"
   },
   "outputs": [],
   "source": [
    "image_df = session.sql(\"SELECT * FROM TB_VOC.MEDIA.IMAGE_TABLE\").collect()\n",
    "\n",
    "def analyze_image(image_path, prompt_template, model='claude-3-5-sonnet'):\n",
    "    escaped_prompt = prompt_template.replace(\"'\", \"''\")\n",
    "    \n",
    "    sql_query = f\"\"\"\n",
    "    SELECT \n",
    "      AI_COMPLETE(\n",
    "        '{model}', \n",
    "        '{escaped_prompt}',\n",
    "         TO_FILE('@TB_VOC.MEDIA.IMAGES', '{image_path}')\n",
    "      )\n",
    "    \"\"\"\n",
    "    result = session.sql(sql_query).collect()\n",
    "    return result[0][0]\n",
    "\n",
    "if len(image_df) > 0:\n",
    "    image_path = image_df[0]['IMAGE_PATH']  # Get first image\n",
    "    prompt = \"Describe what's happening in this image in the style of a detective investigating a scene. Be brief but detailed.\"\n",
    "\n",
    "    analysis = analyze_image(image_path, prompt)\n",
    "    print(f\"Analysis for {image_path}:\")\n",
    "    print(analysis)\n",
    "else:\n",
    "    print(\"No images found in the table.\")"
   ]
  },
  {
   "cell_type": "code",
   "execution_count": null,
   "id": "aaa80c27-deab-4fc5-9197-567d77674d07",
   "metadata": {
    "language": "python",
    "name": "AI_COMPLETE_AUDIO"
   },
   "outputs": [],
   "source": [
    "audio_df = session.sql(\"SELECT * FROM TB_VOC.MEDIA.AUDIO_TABLE\").collect()\n",
    "\n",
    "# Function to transcribe audio with different modes\n",
    "def transcribe_audio(audio_path):\n",
    "\n",
    "    sql_query = f\"\"\"\n",
    "        SELECT AI_TRANSCRIBE(\n",
    "            TO_FILE('@TB_VOC.MEDIA.AUDIO', '{audio_path}')\n",
    "        ) as transcription_result\n",
    "        \"\"\"\n",
    "    \n",
    "    result = session.sql(sql_query).collect()\n",
    "    return json.loads(result[0]['TRANSCRIPTION_RESULT'])\n",
    "\n",
    "# Basic text transcription\n",
    "if len(audio_df) > 0:\n",
    "    audio_path = audio_df[0]['AUDIO_PATH']\n",
    "    transcription = transcribe_audio(audio_path)\n",
    "    \n",
    "    print(f\"Transcription for {audio_path}:\")\n",
    "    print(f\"Duration: {transcription['audio_duration']} seconds\")\n",
    "    print(f\"Text: {transcription['text']}\")\n",
    "else:\n",
    "    print(\"No audio files found in the table.\")"
   ]
  },
  {
   "cell_type": "markdown",
   "id": "90e8df6d-4bf1-42b2-b6db-30d109bd69c9",
   "metadata": {
    "collapsed": false,
    "name": "SENTIMENT_MD",
    "resultHeight": 118
   },
   "source": [
    "Next we will look at another **task specific LLM function in Cortex - Sentiment**. We utilise sentiment function to understand customer's tone based on the review they provided. Sentiment return value between -1 and 1 such that -1 is the most negative while 1 is the most positive.  "
   ]
  },
  {
   "cell_type": "code",
   "execution_count": null,
   "id": "965c69e0-5312-4f4f-89f1-12f52c849453",
   "metadata": {
    "codeCollapsed": false,
    "collapsed": false,
    "language": "python",
    "name": "CORTEX_SENTIMENT",
    "resultHeight": 0
   },
   "outputs": [],
   "source": [
    "# Understand the sentiment of customer review using Cortex Sentiment\n",
    "reviews_df = reviews_df.withColumn('SENTIMENT', cortex.sentiment(F.col('REVIEW')))\n",
    "\n",
    "reviews_df.select([\"REVIEW\",\"SENTIMENT\"]).show(3)"
   ]
  },
  {
   "cell_type": "markdown",
   "id": "8da83a8e-d160-4e6c-9a08-fc8dd0fbcb85",
   "metadata": {
    "collapsed": false,
    "name": "SQL_MD",
    "resultHeight": 67
   },
   "source": [
    "These robust Cortex functions seamlessly integrate with SQL, enabling powerful data processing capabilities."
   ]
  },
  {
   "cell_type": "code",
   "execution_count": null,
   "id": "2b1611e4-a52d-4f9d-a01a-5cc3f7cdb7dd",
   "metadata": {
    "collapsed": false,
    "language": "sql",
    "name": "SQL_TRANSLATE",
    "resultHeight": 0
   },
   "outputs": [],
   "source": [
    "-- Add the TRANSLATED_REVIEW column with conditional translation\n",
    "WITH TRANSLATED_REVIEWS AS (\n",
    "    SELECT \n",
    "        REVIEW,\n",
    "        LANGUAGE,\n",
    "        CASE \n",
    "            WHEN LANGUAGE != 'en' THEN SNOWFLAKE.CORTEX.TRANSLATE(REVIEW, LANGUAGE, 'en') \n",
    "            ELSE REVIEW\n",
    "        END AS TRANSLATED_REVIEW\n",
    "    FROM TRUCK_REVIEWS_V\n",
    ")\n",
    "\n",
    "-- Filter rows where the LANGUAGE is not English and select the desired columns\n",
    "SELECT \n",
    "    REVIEW, \n",
    "    LANGUAGE, \n",
    "    TRANSLATED_REVIEW\n",
    "FROM TRANSLATED_REVIEWS\n",
    "WHERE LANGUAGE != 'en'\n",
    "LIMIT 3;"
   ]
  },
  {
   "cell_type": "code",
   "execution_count": null,
   "id": "76ff3c22-d20c-49a2-9c10-d7e5878782d2",
   "metadata": {
    "codeCollapsed": false,
    "collapsed": false,
    "language": "sql",
    "name": "SQL_AI_AGG",
    "resultHeight": 0
   },
   "outputs": [],
   "source": [
    "WITH SUMMARIZED_REVIEWS AS (\n",
    "    SELECT \n",
    "        TRUCK_BRAND_NAME,\n",
    "        AI_SUMMARIZE_AGG(REVIEW) AS SUMMARY\n",
    "    FROM TRUCK_REVIEWS_V\n",
    "    SAMPLE ROW (1)\n",
    "    GROUP BY TRUCK_BRAND_NAME\n",
    ")\n",
    "SELECT * FROM SUMMARIZED_REVIEWS;"
   ]
  },
  {
   "cell_type": "code",
   "execution_count": null,
   "id": "b0419487-3d8c-4842-bcad-b3edf43bb10c",
   "metadata": {
    "collapsed": false,
    "language": "sql",
    "name": "SQL_AI_CLASSIFY",
    "resultHeight": 0
   },
   "outputs": [],
   "source": [
    "WITH CLASSIFIED_REVIEWS AS (\n",
    "    SELECT \n",
    "        REVIEW,\n",
    "        AI_CLASSIFY(\n",
    "            REVIEW, \n",
    "            ['Likely', 'Unlikely', 'Unsure'], \n",
    "            OBJECT_CONSTRUCT('task_description', \n",
    "                'Tell me based on the following food truck customer review, will they recommend the food truck to their friends and family?'\n",
    "            )\n",
    "        ):labels[0]::TEXT AS RECOMMEND\n",
    "    FROM TRUCK_REVIEWS_V\n",
    ")\n",
    "SELECT * FROM CLASSIFIED_REVIEWS LIMIT 3;"
   ]
  },
  {
   "cell_type": "code",
   "execution_count": null,
   "id": "0b503e72-6e36-4407-a6e9-aebabe5efbfc",
   "metadata": {
    "collapsed": false,
    "language": "sql",
    "name": "SQL_AI_COMPLETE",
    "resultHeight": 0
   },
   "outputs": [],
   "source": [
    "-- Gain Learnings from a specific question\n",
    "WITH GAIN_LEARNINGS AS (\n",
    "    SELECT \n",
    "        TRUCK_BRAND_NAME,\n",
    "        AI_COMPLETE(\n",
    "           'openai-gpt-4.1', \n",
    "           'Context:' || ALL_REVIEWS_TEXT || ' Question: What is the number one dish positively mentioned in the feedback? Answer briefly and concisely and only name the dish:'\n",
    "       ) AS NUMBER_ONE_DISH\n",
    "    FROM CONCATENATED_REVIEWS\n",
    ")\n",
    "SELECT TRUCK_BRAND_NAME, NUMBER_ONE_DISH FROM GAIN_LEARNINGS LIMIT 3;"
   ]
  },
  {
   "cell_type": "code",
   "execution_count": null,
   "id": "35f3d4c0-5be5-4bee-927f-cc25e545f966",
   "metadata": {
    "language": "sql",
    "name": "SQL_AI_COMPLETE_IMAGE"
   },
   "outputs": [],
   "source": [
    "SELECT\n",
    "  AI_COMPLETE (\n",
    "    'claude-3-5-sonnet',\n",
    "    'Please describe what you see in this image.',\n",
    "    TO_FILE ('@TB_VOC.MEDIA.IMAGES', IMAGE_PATH)\n",
    "  ) AS IMAGE_DESCRIPTION\n",
    "FROM\n",
    "  TB_VOC.MEDIA.IMAGE_TABLE\n",
    "LIMIT\n",
    "  1;"
   ]
  },
  {
   "cell_type": "code",
   "execution_count": null,
   "id": "0680d716-76f6-4c5f-9856-eed6f23003da",
   "metadata": {
    "language": "sql",
    "name": "SQL_AI_TRNSCRIBE"
   },
   "outputs": [],
   "source": [
    "SELECT\n",
    "  AI_TRANSCRIBE (\n",
    "    TO_FILE ('@TB_VOC.MEDIA.AUDIO', AUDIO_PATH)\n",
    "  ) AS TRANSCRIPTION_RESULT\n",
    "FROM\n",
    "  TB_VOC.MEDIA.AUDIO_TABLE\n",
    "LIMIT\n",
    "  1;"
   ]
  },
  {
   "cell_type": "code",
   "execution_count": null,
   "id": "93830f62-4c56-4b0c-9ee1-e4e520224f57",
   "metadata": {
    "codeCollapsed": false,
    "collapsed": false,
    "language": "sql",
    "name": "SQL_AI_SENTIMENT",
    "resultHeight": 0
   },
   "outputs": [],
   "source": [
    "SELECT \n",
    "    REVIEW, \n",
    "    AI_SENTIMENT(REVIEW) AS SENTIMENT\n",
    "FROM TRUCK_REVIEWS_V\n",
    "LIMIT 3;\n"
   ]
  }
 ],
 "metadata": {
  "kernelspec": {
   "display_name": "Streamlit Notebook",
   "name": "streamlit"
  },
  "lastEditStatus": {
   "authorEmail": "james.cha-earley@snowflake.com",
   "authorId": "3919642301233",
   "authorName": "JAMESE",
   "lastEditTime": 1755123768311,
   "notebookId": "bac36b6zrhphn74lfvp3",
   "sessionId": "ca62db84-7866-468b-af47-2bae1fd8697d"
  }
 },
 "nbformat": 4,
 "nbformat_minor": 5
}
